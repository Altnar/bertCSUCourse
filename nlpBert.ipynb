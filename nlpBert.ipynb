{
  "nbformat": 4,
  "nbformat_minor": 0,
  "metadata": {
    "accelerator": "GPU",
    "colab": {
      "name": "nlpBert",
      "provenance": [],
      "collapsed_sections": []
    },
    "kernelspec": {
      "display_name": "Python 3",
      "name": "python3"
    }
  },
  "cells": [
    {
      "cell_type": "code",
      "metadata": {
        "colab": {
          "base_uri": "https://localhost:8080/"
        },
        "id": "rSTnddHP9oDg",
        "outputId": "69d46d6f-271c-4bf6-ee67-ac97204c6592"
      },
      "source": [
        "!git clone https://github.com/Samsung-IT-Academy/stepik-dl-nlp.git && pip install -r stepik-dl-nlp/requirements.txt\n",
        "import sys; sys.path.append('./stepik-dl-nlp')\n",
        "\n",
        "!pip install pytorch-transformers"
      ],
      "execution_count": null,
      "outputs": [
        {
          "output_type": "stream",
          "text": [
            "fatal: destination path 'stepik-dl-nlp' already exists and is not an empty directory.\n",
            "Requirement already satisfied: pytorch-transformers in /usr/local/lib/python3.6/dist-packages (1.2.0)\n",
            "Requirement already satisfied: boto3 in /usr/local/lib/python3.6/dist-packages (from pytorch-transformers) (1.16.34)\n",
            "Requirement already satisfied: sentencepiece in /usr/local/lib/python3.6/dist-packages (from pytorch-transformers) (0.1.94)\n",
            "Requirement already satisfied: sacremoses in /usr/local/lib/python3.6/dist-packages (from pytorch-transformers) (0.0.43)\n",
            "Requirement already satisfied: torch>=1.0.0 in /usr/local/lib/python3.6/dist-packages (from pytorch-transformers) (1.7.0+cu101)\n",
            "Requirement already satisfied: numpy in /usr/local/lib/python3.6/dist-packages (from pytorch-transformers) (1.18.5)\n",
            "Requirement already satisfied: regex in /usr/local/lib/python3.6/dist-packages (from pytorch-transformers) (2019.12.20)\n",
            "Requirement already satisfied: requests in /usr/local/lib/python3.6/dist-packages (from pytorch-transformers) (2.23.0)\n",
            "Requirement already satisfied: tqdm in /usr/local/lib/python3.6/dist-packages (from pytorch-transformers) (4.41.1)\n",
            "Requirement already satisfied: jmespath<1.0.0,>=0.7.1 in /usr/local/lib/python3.6/dist-packages (from boto3->pytorch-transformers) (0.10.0)\n",
            "Requirement already satisfied: botocore<1.20.0,>=1.19.34 in /usr/local/lib/python3.6/dist-packages (from boto3->pytorch-transformers) (1.19.34)\n",
            "Requirement already satisfied: s3transfer<0.4.0,>=0.3.0 in /usr/local/lib/python3.6/dist-packages (from boto3->pytorch-transformers) (0.3.3)\n",
            "Requirement already satisfied: joblib in /usr/local/lib/python3.6/dist-packages (from sacremoses->pytorch-transformers) (0.17.0)\n",
            "Requirement already satisfied: click in /usr/local/lib/python3.6/dist-packages (from sacremoses->pytorch-transformers) (7.1.2)\n",
            "Requirement already satisfied: six in /usr/local/lib/python3.6/dist-packages (from sacremoses->pytorch-transformers) (1.15.0)\n",
            "Requirement already satisfied: future in /usr/local/lib/python3.6/dist-packages (from torch>=1.0.0->pytorch-transformers) (0.16.0)\n",
            "Requirement already satisfied: dataclasses in /usr/local/lib/python3.6/dist-packages (from torch>=1.0.0->pytorch-transformers) (0.8)\n",
            "Requirement already satisfied: typing-extensions in /usr/local/lib/python3.6/dist-packages (from torch>=1.0.0->pytorch-transformers) (3.7.4.3)\n",
            "Requirement already satisfied: urllib3!=1.25.0,!=1.25.1,<1.26,>=1.21.1 in /usr/local/lib/python3.6/dist-packages (from requests->pytorch-transformers) (1.24.3)\n",
            "Requirement already satisfied: chardet<4,>=3.0.2 in /usr/local/lib/python3.6/dist-packages (from requests->pytorch-transformers) (3.0.4)\n",
            "Requirement already satisfied: idna<3,>=2.5 in /usr/local/lib/python3.6/dist-packages (from requests->pytorch-transformers) (2.10)\n",
            "Requirement already satisfied: certifi>=2017.4.17 in /usr/local/lib/python3.6/dist-packages (from requests->pytorch-transformers) (2020.12.5)\n",
            "Requirement already satisfied: python-dateutil<3.0.0,>=2.1 in /usr/local/lib/python3.6/dist-packages (from botocore<1.20.0,>=1.19.34->boto3->pytorch-transformers) (2.8.1)\n"
          ],
          "name": "stdout"
        }
      ]
    },
    {
      "cell_type": "code",
      "metadata": {
        "colab": {
          "base_uri": "https://localhost:8080/"
        },
        "id": "M_y86TtK9xap",
        "outputId": "ab69b0d2-518b-4b88-c703-f22ce6ad8844"
      },
      "source": [
        "import torch\n",
        "from torch.utils.data import TensorDataset, DataLoader, RandomSampler, SequentialSampler\n",
        "from keras.preprocessing.sequence import pad_sequences\n",
        "from sklearn.model_selection import train_test_split\n",
        "from pytorch_transformers import BertTokenizer, BertConfig\n",
        "from pytorch_transformers import AdamW, BertForSequenceClassification\n",
        "from IPython.display import clear_output\n",
        "from tqdm import tqdm, trange\n",
        "import pandas as pd\n",
        "import io\n",
        "import numpy as np\n",
        "from sklearn.metrics import accuracy_score\n",
        "import matplotlib.pyplot as plt\n",
        "\n",
        "device = torch.device(\"cuda\" if torch.cuda.is_available() else \"cpu\")\n",
        "if device == 'cpu':\n",
        "    print('cpu')\n",
        "else:\n",
        "    n_gpu = torch.cuda.device_count()\n",
        "    print(torch.cuda.get_device_name(0))"
      ],
      "execution_count": null,
      "outputs": [
        {
          "output_type": "stream",
          "text": [
            "Tesla T4\n"
          ],
          "name": "stdout"
        }
      ]
    },
    {
      "cell_type": "code",
      "metadata": {
        "id": "_qG_T2zf_EZE"
      },
      "source": [
        "df = pd.read_csv('/content/lenta10k.csv')"
      ],
      "execution_count": null,
      "outputs": []
    },
    {
      "cell_type": "code",
      "metadata": {
        "colab": {
          "base_uri": "https://localhost:8080/",
          "height": 306
        },
        "id": "tF7XlNp8FEIc",
        "outputId": "84116acd-bc24-4b22-d96d-7ff1dfd9ebc2"
      },
      "source": [
        "df.head()"
      ],
      "execution_count": null,
      "outputs": [
        {
          "output_type": "execute_result",
          "data": {
            "text/html": [
              "<div>\n",
              "<style scoped>\n",
              "    .dataframe tbody tr th:only-of-type {\n",
              "        vertical-align: middle;\n",
              "    }\n",
              "\n",
              "    .dataframe tbody tr th {\n",
              "        vertical-align: top;\n",
              "    }\n",
              "\n",
              "    .dataframe thead th {\n",
              "        text-align: right;\n",
              "    }\n",
              "</style>\n",
              "<table border=\"1\" class=\"dataframe\">\n",
              "  <thead>\n",
              "    <tr style=\"text-align: right;\">\n",
              "      <th></th>\n",
              "      <th>Unnamed: 0</th>\n",
              "      <th>url</th>\n",
              "      <th>title</th>\n",
              "      <th>text</th>\n",
              "      <th>topic</th>\n",
              "      <th>tags</th>\n",
              "      <th>date</th>\n",
              "    </tr>\n",
              "  </thead>\n",
              "  <tbody>\n",
              "    <tr>\n",
              "      <th>0</th>\n",
              "      <td>0</td>\n",
              "      <td>https://lenta.ru/news/1914/09/16/hungarnn/</td>\n",
              "      <td>1914. Русские войска вступили в пределы Венгрии</td>\n",
              "      <td>Бои у Сопоцкина и Друскеник закончились отступ...</td>\n",
              "      <td>Библиотека</td>\n",
              "      <td>Первая мировая</td>\n",
              "      <td>1914/09/16</td>\n",
              "    </tr>\n",
              "    <tr>\n",
              "      <th>1</th>\n",
              "      <td>1</td>\n",
              "      <td>https://lenta.ru/news/1914/09/16/lermontov/</td>\n",
              "      <td>1914. Празднование столетия М.Ю. Лермонтова от...</td>\n",
              "      <td>Министерство народного просвещения, в виду про...</td>\n",
              "      <td>Библиотека</td>\n",
              "      <td>Первая мировая</td>\n",
              "      <td>1914/09/16</td>\n",
              "    </tr>\n",
              "    <tr>\n",
              "      <th>2</th>\n",
              "      <td>2</td>\n",
              "      <td>https://lenta.ru/news/1914/09/17/nesteroff/</td>\n",
              "      <td>1914. Das ist Nesteroff!</td>\n",
              "      <td>Штабс-капитан П. Н. Нестеров на днях, увидев в...</td>\n",
              "      <td>Библиотека</td>\n",
              "      <td>Первая мировая</td>\n",
              "      <td>1914/09/17</td>\n",
              "    </tr>\n",
              "    <tr>\n",
              "      <th>3</th>\n",
              "      <td>3</td>\n",
              "      <td>https://lenta.ru/news/1914/09/17/bulldogn/</td>\n",
              "      <td>1914. Бульдог-гонец под Льежем</td>\n",
              "      <td>Фотограф-корреспондент Daily Mirror рассказыва...</td>\n",
              "      <td>Библиотека</td>\n",
              "      <td>Первая мировая</td>\n",
              "      <td>1914/09/17</td>\n",
              "    </tr>\n",
              "    <tr>\n",
              "      <th>4</th>\n",
              "      <td>4</td>\n",
              "      <td>https://lenta.ru/news/1914/09/18/zver/</td>\n",
              "      <td>1914. Под Люблином пойман швабский зверь</td>\n",
              "      <td>Лица, приехавшие в Варшаву из Люблина, передаю...</td>\n",
              "      <td>Библиотека</td>\n",
              "      <td>Первая мировая</td>\n",
              "      <td>1914/09/18</td>\n",
              "    </tr>\n",
              "  </tbody>\n",
              "</table>\n",
              "</div>"
            ],
            "text/plain": [
              "   Unnamed: 0  ...        date\n",
              "0           0  ...  1914/09/16\n",
              "1           1  ...  1914/09/16\n",
              "2           2  ...  1914/09/17\n",
              "3           3  ...  1914/09/17\n",
              "4           4  ...  1914/09/18\n",
              "\n",
              "[5 rows x 7 columns]"
            ]
          },
          "metadata": {
            "tags": []
          },
          "execution_count": 4
        }
      ]
    },
    {
      "cell_type": "code",
      "metadata": {
        "colab": {
          "base_uri": "https://localhost:8080/"
        },
        "id": "w9vABHADFGlg",
        "outputId": "084c94d4-910c-4d7e-d23c-d3e82088bd7d"
      },
      "source": [
        "df.topic.value_counts()"
      ],
      "execution_count": null,
      "outputs": [
        {
          "output_type": "execute_result",
          "data": {
            "text/plain": [
              "Россия            5135\n",
              "Мир               2018\n",
              "Экономика         1545\n",
              "Интернет и СМИ     937\n",
              "Спорт              360\n",
              "Библиотека           5\n",
              "Name: topic, dtype: int64"
            ]
          },
          "metadata": {
            "tags": []
          },
          "execution_count": 5
        }
      ]
    },
    {
      "cell_type": "code",
      "metadata": {
        "colab": {
          "base_uri": "https://localhost:8080/",
          "height": 204
        },
        "id": "e9hHZmUiFJor",
        "outputId": "7ac5fff9-c6e3-4e3b-ed40-b058ce3fb508"
      },
      "source": [
        "all_topics = list(df.topic.unique())\n",
        "unpopular_topics = [\n",
        "    'Спорт', \n",
        "    'Библиотека', \n",
        "]\n",
        "topics = [topic for topic in all_topics if topic not in unpopular_topics]\n",
        "clean_df = df[df['topic'].isin(topics)].dropna()\n",
        "mapping = {}\n",
        "for i, v in enumerate(topics):\n",
        "    mapping[v] = i\n",
        "clean_df['topic'] = clean_df['topic'].replace(mapping)\n",
        "clean_df.head()"
      ],
      "execution_count": null,
      "outputs": [
        {
          "output_type": "execute_result",
          "data": {
            "text/html": [
              "<div>\n",
              "<style scoped>\n",
              "    .dataframe tbody tr th:only-of-type {\n",
              "        vertical-align: middle;\n",
              "    }\n",
              "\n",
              "    .dataframe tbody tr th {\n",
              "        vertical-align: top;\n",
              "    }\n",
              "\n",
              "    .dataframe thead th {\n",
              "        text-align: right;\n",
              "    }\n",
              "</style>\n",
              "<table border=\"1\" class=\"dataframe\">\n",
              "  <thead>\n",
              "    <tr style=\"text-align: right;\">\n",
              "      <th></th>\n",
              "      <th>Unnamed: 0</th>\n",
              "      <th>url</th>\n",
              "      <th>title</th>\n",
              "      <th>text</th>\n",
              "      <th>topic</th>\n",
              "      <th>tags</th>\n",
              "      <th>date</th>\n",
              "    </tr>\n",
              "  </thead>\n",
              "  <tbody>\n",
              "    <tr>\n",
              "      <th>5</th>\n",
              "      <td>5</td>\n",
              "      <td>https://lenta.ru/news/1999/08/31/stancia_mir/</td>\n",
              "      <td>Космонавты сомневаются в надежности \"Мира\"</td>\n",
              "      <td>Как стало известно агентству Ассошиэйтед Пресс...</td>\n",
              "      <td>0</td>\n",
              "      <td>Все</td>\n",
              "      <td>1999/08/31</td>\n",
              "    </tr>\n",
              "    <tr>\n",
              "      <th>6</th>\n",
              "      <td>6</td>\n",
              "      <td>https://lenta.ru/news/1999/08/31/vzriv/</td>\n",
              "      <td>Взрыв в центре Москвы: пострадало 30 человек</td>\n",
              "      <td>В зале игровых автоматов в третьем ярусе подзе...</td>\n",
              "      <td>0</td>\n",
              "      <td>Все</td>\n",
              "      <td>1999/08/31</td>\n",
              "    </tr>\n",
              "    <tr>\n",
              "      <th>7</th>\n",
              "      <td>7</td>\n",
              "      <td>https://lenta.ru/news/1999/08/31/credit_japs/</td>\n",
              "      <td>Япония кредитует Россию на полтора миллиарда д...</td>\n",
              "      <td>Япония приняла решение разморозить кредиты Рос...</td>\n",
              "      <td>0</td>\n",
              "      <td>Все</td>\n",
              "      <td>1999/08/31</td>\n",
              "    </tr>\n",
              "    <tr>\n",
              "      <th>8</th>\n",
              "      <td>8</td>\n",
              "      <td>https://lenta.ru/news/1999/08/31/diana/</td>\n",
              "      <td>Британцы отмечают двухлетие смерти Дианы</td>\n",
              "      <td>Британцы отмечают сегодня скорбную дату - втор...</td>\n",
              "      <td>1</td>\n",
              "      <td>Все</td>\n",
              "      <td>1999/08/31</td>\n",
              "    </tr>\n",
              "    <tr>\n",
              "      <th>9</th>\n",
              "      <td>9</td>\n",
              "      <td>https://lenta.ru/news/1999/08/31/mvf/</td>\n",
              "      <td>Отмытые через Bank of NY деньги не имели отнош...</td>\n",
              "      <td>В понедельник директор департамента внешних св...</td>\n",
              "      <td>0</td>\n",
              "      <td>Все</td>\n",
              "      <td>1999/08/31</td>\n",
              "    </tr>\n",
              "  </tbody>\n",
              "</table>\n",
              "</div>"
            ],
            "text/plain": [
              "   Unnamed: 0                                            url  ... tags        date\n",
              "5           5  https://lenta.ru/news/1999/08/31/stancia_mir/  ...  Все  1999/08/31\n",
              "6           6        https://lenta.ru/news/1999/08/31/vzriv/  ...  Все  1999/08/31\n",
              "7           7  https://lenta.ru/news/1999/08/31/credit_japs/  ...  Все  1999/08/31\n",
              "8           8        https://lenta.ru/news/1999/08/31/diana/  ...  Все  1999/08/31\n",
              "9           9          https://lenta.ru/news/1999/08/31/mvf/  ...  Все  1999/08/31\n",
              "\n",
              "[5 rows x 7 columns]"
            ]
          },
          "metadata": {
            "tags": []
          },
          "execution_count": 6
        }
      ]
    },
    {
      "cell_type": "code",
      "metadata": {
        "id": "ZAmxPyTzWdm3"
      },
      "source": [
        "def calculate_bert(sentences, clean_df):\n",
        "  train_sentences, test_sentences, train_topics, test_topics = train_test_split(\n",
        "      sentences, clean_df['topic'].values, test_size=0.3\n",
        "  )\n",
        "  print(f'Размер выборки {len(train_sentences)} {len(test_sentences)}')\n",
        "\n",
        "  tokenizer = BertTokenizer.from_pretrained('bert-base-uncased', do_lower_case=True)\n",
        "  tokenized_texts = [tokenizer.tokenize(sentence) for sentence in train_sentences]\n",
        "\n",
        "  input_ids = [tokenizer.convert_tokens_to_ids(x) for x in tokenized_texts]\n",
        "  input_ids = pad_sequences(\n",
        "      input_ids,\n",
        "      maxlen=512,\n",
        "      dtype=\"long\",\n",
        "      truncating=\"post\",\n",
        "      padding=\"post\"\n",
        "  )\n",
        "\n",
        "  attention_masks = [[float(i>0) for i in seq] for seq in input_ids]\n",
        "  train_inputs, validation_inputs, train_labels, validation_labels = train_test_split(\n",
        "    input_ids, train_topics, \n",
        "    random_state=42,\n",
        "    test_size=0.2\n",
        "  )\n",
        "  train_masks, validation_masks, _, _ = train_test_split(\n",
        "      attention_masks,\n",
        "      input_ids,\n",
        "      random_state=42,\n",
        "      test_size=0.2\n",
        "  )\n",
        "  train_inputs = torch.tensor(train_inputs)\n",
        "  train_labels = torch.tensor(train_labels)\n",
        "  train_masks = torch.tensor(train_masks)\n",
        "  validation_inputs = torch.tensor(validation_inputs)\n",
        "  validation_labels = torch.tensor(validation_labels)\n",
        "  validation_masks = torch.tensor(validation_masks)\n",
        "  device = torch.device(\"cuda\")\n",
        "  train_data = TensorDataset(train_inputs, train_masks, train_labels)\n",
        "  train_dataloader = DataLoader(\n",
        "      train_data,\n",
        "      sampler=RandomSampler(train_data),\n",
        "      batch_size=12\n",
        "  )\n",
        "\n",
        "  validation_data = TensorDataset(validation_inputs, validation_masks, validation_labels)\n",
        "  validation_dataloader = DataLoader(\n",
        "      validation_data,\n",
        "      sampler=SequentialSampler(validation_data),\n",
        "      batch_size=12\n",
        "  )\n",
        "  model = BertForSequenceClassification.from_pretrained(\"bert-base-uncased\", num_labels=len(clean_df['topic'].values))\n",
        "  model.cuda()\n",
        "\n",
        "  param_optimizer = list(model.named_parameters())\n",
        "  no_decay = ['bias', 'gamma', 'beta']\n",
        "  optimizer_grouped_parameters = [\n",
        "      {'params': [p for n, p in param_optimizer if not any(nd in n for nd in no_decay)],\n",
        "      'weight_decay_rate': 0.01},\n",
        "      {'params': [p for n, p in param_optimizer if any(nd in n for nd in no_decay)],\n",
        "      'weight_decay_rate': 0.0}\n",
        "  ]\n",
        "\n",
        "  optimizer = AdamW(optimizer_grouped_parameters, lr=2e-5)\n",
        "  train_loss_set = []\n",
        "  train_loss = 0\n",
        "\n",
        "  model.train()\n",
        "  for step, batch in enumerate(train_dataloader):\n",
        "      batch = tuple(t.to(device) for t in batch)\n",
        "      b_input_ids, b_input_mask, b_labels = batch\n",
        "      \n",
        "      optimizer.zero_grad()\n",
        "      loss = model(b_input_ids, token_type_ids=None, attention_mask=b_input_mask, labels=b_labels)\n",
        "      train_loss_set.append(loss[0].item())  \n",
        "      loss[0].backward()\n",
        "      optimizer.step()\n",
        "\n",
        "      train_loss += loss[0].item()\n",
        "      \n",
        "      clear_output(True)\n",
        "      plt.plot(train_loss_set)\n",
        "      plt.title(\"Training loss\")\n",
        "      plt.xlabel(\"Batch\")\n",
        "      plt.ylabel(\"Loss\")\n",
        "      plt.show()\n",
        "  print(\"Loss на обучающей выборке: {0:.5f}\".format(train_loss / len(train_dataloader)))\n",
        "\n",
        "  model.eval()\n",
        "  valid_preds, valid_labels = [], []\n",
        "  for batch in validation_dataloader:   \n",
        "      batch = tuple(t.to(device) for t in batch)\n",
        "      b_input_ids, b_input_mask, b_labels = batch\n",
        "      with torch.no_grad():\n",
        "          logits = model(b_input_ids, token_type_ids=None, attention_mask=b_input_mask)\n",
        "      logits = logits[0].detach().cpu().numpy()\n",
        "      label_ids = b_labels.to('cpu').numpy()\n",
        "      \n",
        "      batch_preds = np.argmax(logits, axis=1)\n",
        "      batch_labels = label_ids\n",
        "      valid_preds.extend(batch_preds)\n",
        "      valid_labels.extend(batch_labels)\n",
        "\n",
        "  print(\"Процент правильных предсказаний на валидационной выборке: {0:.2f}%\".format(\n",
        "      accuracy_score(valid_labels, valid_preds) * 100\n",
        "  ))"
      ],
      "execution_count": 12,
      "outputs": []
    },
    {
      "cell_type": "markdown",
      "metadata": {
        "id": "jEKgMpXYYqrI"
      },
      "source": [
        "Весь текст статьи(до максимальный длины обработки)"
      ]
    },
    {
      "cell_type": "code",
      "metadata": {
        "id": "Uv3YSMVoFStj"
      },
      "source": [
        "sentences = clean_df['text'].values\n",
        "for index, sentence in enumerate(sentences):\n",
        "    if len(sentence) > 512:\n",
        "        sentences[index] = sentence[:512]\n",
        "sentences = [\"[CLS] \" + sentence + \" [SEP]\" for sentence in sentences]"
      ],
      "execution_count": 10,
      "outputs": []
    },
    {
      "cell_type": "code",
      "metadata": {
        "colab": {
          "base_uri": "https://localhost:8080/",
          "height": 329
        },
        "id": "rZDk7ERmShZc",
        "outputId": "f6192f2f-b5e2-4c96-d50f-42e676717925"
      },
      "source": [
        "calculate_bert(sentences, clean_df)"
      ],
      "execution_count": 13,
      "outputs": [
        {
          "output_type": "display_data",
          "data": {
            "image/png": "[encoded data removed]",
            "text/plain": [
              "<Figure size 432x288 with 1 Axes>"
            ]
          },
          "metadata": {
            "tags": [],
            "needs_background": "light"
          }
        },
        {
          "output_type": "stream",
          "text": [
            "Loss на обучающей выборке: 2.38798\n",
            "Процент правильных предсказаний на валидационной выборке: 65.09%\n"
          ],
          "name": "stdout"
        }
      ]
    },
    {
      "cell_type": "markdown",
      "metadata": {
        "id": "WnYUO0ywbu_I"
      },
      "source": [
        "Результаты Loss 2.38798, Accuracy 65.9%"
      ]
    },
    {
      "cell_type": "markdown",
      "metadata": {
        "id": "B2n1msO4ZRPn"
      },
      "source": [
        "Только начало статьи"
      ]
    },
    {
      "cell_type": "code",
      "metadata": {
        "id": "lAPQwEBxZXtd"
      },
      "source": [
        "sentences = clean_df['text'].values\n",
        "for index, sentence in enumerate(sentences):\n",
        "    if len(sentence) > 100:\n",
        "        sentences[index] = sentence[:100]\n",
        "sentences = [\"[CLS] \" + sentence + \" [SEP]\" for sentence in sentences]"
      ],
      "execution_count": 14,
      "outputs": []
    },
    {
      "cell_type": "code",
      "metadata": {
        "colab": {
          "base_uri": "https://localhost:8080/",
          "height": 329
        },
        "id": "DPgRu_VPZXy_",
        "outputId": "d9da37d5-51e6-4541-ac1b-ce7c9a2c7d41"
      },
      "source": [
        "calculate_bert(sentences, clean_df)"
      ],
      "execution_count": 15,
      "outputs": [
        {
          "output_type": "display_data",
          "data": {
            "image/png": "[encoded data removed]",
            "text/plain": [
              "<Figure size 432x288 with 1 Axes>"
            ]
          },
          "metadata": {
            "tags": [],
            "needs_background": "light"
          }
        },
        {
          "output_type": "stream",
          "text": [
            "Loss на обучающей выборке: 2.50995\n",
            "Процент правильных предсказаний на валидационной выборке: 53.74%\n"
          ],
          "name": "stdout"
        }
      ]
    },
    {
      "cell_type": "markdown",
      "metadata": {
        "id": "1igT1YeYfkC9"
      },
      "source": [
        "Результаты Loss 2.50995, Accuracy 53.74%"
      ]
    },
    {
      "cell_type": "markdown",
      "metadata": {
        "id": "6LxrN-zzZes2"
      },
      "source": [
        "Только заголовок"
      ]
    },
    {
      "cell_type": "code",
      "metadata": {
        "id": "cbJP_SD0Zh6j"
      },
      "source": [
        "sentences = clean_df['title'].values\n",
        "for index, sentence in enumerate(sentences):\n",
        "    if len(sentence) > 512:\n",
        "        sentences[index] = sentence[:512]\n",
        "sentences = [\"[CLS] \" + sentence + \" [SEP]\" for sentence in sentences]"
      ],
      "execution_count": 16,
      "outputs": []
    },
    {
      "cell_type": "code",
      "metadata": {
        "colab": {
          "base_uri": "https://localhost:8080/",
          "height": 329
        },
        "id": "qpoHY76sZjKF",
        "outputId": "5dcc796e-3747-4822-b7c1-eeaa952743f0"
      },
      "source": [
        "calculate_bert(sentences, clean_df)"
      ],
      "execution_count": 17,
      "outputs": [
        {
          "output_type": "display_data",
          "data": {
            "image/png": "[encoded data removed]",
            "text/plain": [
              "<Figure size 432x288 with 1 Axes>"
            ]
          },
          "metadata": {
            "tags": [],
            "needs_background": "light"
          }
        },
        {
          "output_type": "stream",
          "text": [
            "Loss на обучающей выборке: 2.53920\n",
            "Процент правильных предсказаний на валидационной выборке: 52.48%\n"
          ],
          "name": "stdout"
        }
      ]
    },
    {
      "cell_type": "markdown",
      "metadata": {
        "id": "CuczK0OEiAO6"
      },
      "source": [
        "Результаты Loss 2.53920, Accuracy 52.48%"
      ]
    }
  ]
}